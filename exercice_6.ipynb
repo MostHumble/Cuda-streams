{
  "nbformat": 4,
  "nbformat_minor": 0,
  "metadata": {
    "colab": {
      "provenance": [],
      "gpuType": "T4",
      "authorship_tag": "ABX9TyM0kc8IN9an7S8fSkgoXaFu"
    },
    "kernelspec": {
      "name": "python3",
      "display_name": "Python 3"
    },
    "language_info": {
      "name": "python"
    },
    "accelerator": "GPU"
  },
  "cells": [
    {
      "cell_type": "code",
      "source": [
        "!pip install nvcc4jupyter"
      ],
      "metadata": {
        "id": "v_-j14Pkm7BD"
      },
      "execution_count": null,
      "outputs": []
    },
    {
      "cell_type": "code",
      "source": [
        "%load_ext nvcc4jupyter"
      ],
      "metadata": {
        "colab": {
          "base_uri": "https://localhost:8080/"
        },
        "id": "IUqyQ_fyos9t",
        "outputId": "f39d2d8f-e18b-41af-e0a5-9b9b460f2302"
      },
      "execution_count": 2,
      "outputs": [
        {
          "output_type": "stream",
          "name": "stdout",
          "text": [
            "Detected platform \"Colab\". Running its setup...\n",
            "Source files will be saved in \"/tmp/tmpiimux91e\".\n"
          ]
        }
      ]
    },
    {
      "cell_type": "code",
      "source": [
        "%%cuda_group_save --group shared --name \"helper_cuda.h\"\n",
        "#ifndef HELPER_CUDA_H\n",
        "#define HELPER_CUDA_H\n",
        "\n",
        "#include <cuda_runtime.h>\n",
        "#include <stdio.h>\n",
        "#include <stdlib.h>\n",
        "\n",
        "// Error checking macro\n",
        "#define checkCudaErrors(val) check( (val), #val, __FILE__, __LINE__ )\n",
        "\n",
        "template<typename T>\n",
        "void check(T err, const char* const func, const char* const file, const int line) {\n",
        "    if (err != cudaSuccess) {\n",
        "        fprintf(stderr, \"CUDA error at %s:%d code=%d(%s) \\\"%s\\\" \\n\",\n",
        "                file, line, static_cast<unsigned int>(err), cudaGetErrorString(err), func);\n",
        "        exit(1);\n",
        "    }\n",
        "}\n",
        "\n",
        "#endif // HELPER_CUDA_H"
      ],
      "metadata": {
        "id": "JYGN4aNYXabM"
      },
      "execution_count": 9,
      "outputs": []
    },
    {
      "cell_type": "code",
      "source": [
        "%%cuda_group_save --name \"stream_example.cu\" --group \"stream_demo\"\n",
        "#include <stdio.h>\n",
        "#include <stdlib.h>\n",
        "#include <iostream>\n",
        "#include <cuda_runtime.h>\n",
        "#include \"helper_cuda.h\"\n",
        "\n",
        "class Dog\n",
        "{\n",
        "public:\n",
        "    Dog();\n",
        "    ~Dog();\n",
        "    cudaStream_t *cuStreams;\n",
        "    void prepare(int N);\n",
        "private:\n",
        "    int streamNum;\n",
        "};\n",
        "\n",
        "Dog::Dog() : streamNum(1), cuStreams(NULL) {}\n",
        "\n",
        "Dog::~Dog() {\n",
        "    if (cuStreams) {\n",
        "        for (int i = 0; i < streamNum; i++) {\n",
        "            checkCudaErrors(cudaStreamDestroy(cuStreams[i]));\n",
        "        }\n",
        "        free(cuStreams);\n",
        "    }\n",
        "}\n",
        "\n",
        "void Dog::prepare(int N) {\n",
        "    printf(\"Dog: creating %d streams\\n\", N);\n",
        "    streamNum = N;\n",
        "    cuStreams = (cudaStream_t*) malloc(sizeof(cudaStream_t) * N);\n",
        "    for (int i = 0; i < streamNum; i++) {\n",
        "        checkCudaErrors(cudaStreamCreate(&cuStreams[i]));\n",
        "        printf(\"Dog: stream = %ld\\n\", (long)cuStreams[i]);\n",
        "    }\n",
        "}\n",
        "\n",
        "class Cat\n",
        "{\n",
        "public:\n",
        "    Cat();\n",
        "    ~Cat();\n",
        "    cudaStream_t *cuStreams;\n",
        "    void prepare(int N);\n",
        "private:\n",
        "    int streamNum;\n",
        "};\n",
        "\n",
        "Cat::Cat() : streamNum(1), cuStreams(NULL) {}\n",
        "\n",
        "Cat::~Cat() {\n",
        "    if (cuStreams) {\n",
        "        for (int i = 0; i < streamNum; i++) {\n",
        "            checkCudaErrors(cudaStreamDestroy(cuStreams[i]));\n",
        "        }\n",
        "        free(cuStreams);\n",
        "    }\n",
        "}\n",
        "\n",
        "void Cat::prepare(int N) {\n",
        "    printf(\"Cat: creating %d streams\\n\", N);\n",
        "    streamNum = N;\n",
        "    cuStreams = (cudaStream_t*) malloc(sizeof(cudaStream_t) * N);\n",
        "    for (int i = 0; i < streamNum; i++) {\n",
        "        checkCudaErrors(cudaStreamCreate(&cuStreams[i]));\n",
        "        printf(\"Cat: stream = %ld\\n\", (long)cuStreams[i]);\n",
        "    }\n",
        "}\n",
        "\n",
        "int main(int argc, char **argv) {\n",
        "    Dog d1;\n",
        "    Cat c1;\n",
        "\n",
        "    d1.prepare(2);\n",
        "    c1.prepare(2);\n",
        "\n",
        "    return 0;\n",
        "}\n"
      ],
      "metadata": {
        "id": "A-i10hjX85mG"
      },
      "execution_count": 10,
      "outputs": []
    },
    {
      "cell_type": "code",
      "source": [
        "%cuda_group_run --group \"stream_demo\" -c \"--gpu-architecture sm_75 -O2 --default-stream per-thread\""
      ],
      "metadata": {
        "id": "r0T2sQC-yDkI",
        "colab": {
          "base_uri": "https://localhost:8080/"
        },
        "outputId": "55a28f29-1161-4b16-c8c8-f090bc7a80b9"
      },
      "execution_count": 12,
      "outputs": [
        {
          "output_type": "stream",
          "name": "stdout",
          "text": [
            "Dog: creating 2 streams\n",
            "Dog: stream = 97235711690480\n",
            "Dog: stream = 97235711833744\n",
            "Cat: creating 2 streams\n",
            "Cat: stream = 97235708493408\n",
            "Cat: stream = 97235708493440\n",
            "\n"
          ]
        }
      ]
    },
    {
      "cell_type": "markdown",
      "source": [
        "Output will look like this:\n",
        "```\n",
        "Dog: creating 2 streams\n",
        "Dog: stream = 97235711690480\n",
        "Dog: stream = 97235711833744\n",
        "Cat: creating 2 streams\n",
        "Cat: stream = 97235708493408\n",
        "Cat: stream = 97235708493440\n",
        "```"
      ],
      "metadata": {
        "id": "wVwX7Lg1Ylyu"
      }
    },
    {
      "cell_type": "code",
      "source": [],
      "metadata": {
        "id": "gkdiXAwLYooO"
      },
      "execution_count": null,
      "outputs": []
    }
  ]
}