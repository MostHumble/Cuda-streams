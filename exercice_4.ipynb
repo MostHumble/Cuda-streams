{
  "nbformat": 4,
  "nbformat_minor": 0,
  "metadata": {
    "colab": {
      "provenance": [],
      "gpuType": "T4",
      "authorship_tag": "ABX9TyMKku7REUpiH7SqSI9RA2oB"
    },
    "kernelspec": {
      "name": "python3",
      "display_name": "Python 3"
    },
    "language_info": {
      "name": "python"
    },
    "accelerator": "GPU"
  },
  "cells": [
    {
      "cell_type": "code",
      "source": [
        "!pip install nvcc4jupyter"
      ],
      "metadata": {
        "colab": {
          "base_uri": "https://localhost:8080/"
        },
        "id": "v_-j14Pkm7BD",
        "outputId": "eccab65e-5616-4aac-ca90-668cc4043574"
      },
      "execution_count": 2,
      "outputs": [
        {
          "output_type": "stream",
          "name": "stdout",
          "text": [
            "Collecting nvcc4jupyter\n",
            "  Downloading nvcc4jupyter-1.2.1-py3-none-any.whl.metadata (5.1 kB)\n",
            "Downloading nvcc4jupyter-1.2.1-py3-none-any.whl (10 kB)\n",
            "Installing collected packages: nvcc4jupyter\n",
            "Successfully installed nvcc4jupyter-1.2.1\n"
          ]
        }
      ]
    },
    {
      "cell_type": "code",
      "source": [
        "!ls /usr/local/ | grep cuda"
      ],
      "metadata": {
        "colab": {
          "base_uri": "https://localhost:8080/"
        },
        "id": "mQ8ZZCaPl_D1",
        "outputId": "f3c4f814-41fc-4b95-f1a9-b4d112f6cf21"
      },
      "execution_count": 1,
      "outputs": [
        {
          "output_type": "stream",
          "name": "stdout",
          "text": [
            "cuda\n",
            "cuda-12\n",
            "cuda-12.5\n"
          ]
        }
      ]
    },
    {
      "cell_type": "code",
      "source": [
        "!export PATH=/usr/local/cuda-12.5/bin:$PATH\n",
        "!export LD_LIBRARY_PATH=/usr/local/cuda-12.5/lib64:$LD_LIBRARY_PATH"
      ],
      "metadata": {
        "id": "iux4T-WfmFSR"
      },
      "execution_count": 3,
      "outputs": []
    },
    {
      "cell_type": "code",
      "source": [
        "!echo $PATH\n",
        "!echo $LD_LIBRARY_PATH"
      ],
      "metadata": {
        "colab": {
          "base_uri": "https://localhost:8080/"
        },
        "id": "OTa227GdmJG1",
        "outputId": "741a9b97-a33c-4c39-9a59-b75fe06fb154"
      },
      "execution_count": 4,
      "outputs": [
        {
          "output_type": "stream",
          "name": "stdout",
          "text": [
            "/opt/bin:/usr/local/nvidia/bin:/usr/local/cuda/bin:/usr/local/sbin:/usr/local/bin:/usr/sbin:/usr/bin:/sbin:/bin:/tools/node/bin:/tools/google-cloud-sdk/bin\n",
            "/usr/lib64-nvidia\n"
          ]
        }
      ]
    },
    {
      "cell_type": "code",
      "source": [
        "%load_ext nvcc4jupyter"
      ],
      "metadata": {
        "colab": {
          "base_uri": "https://localhost:8080/"
        },
        "id": "IUqyQ_fyos9t",
        "outputId": "2642786d-f785-4f28-f894-6160de783b25"
      },
      "execution_count": 5,
      "outputs": [
        {
          "output_type": "stream",
          "name": "stdout",
          "text": [
            "Detected platform \"Colab\". Running its setup...\n",
            "Source files will be saved in \"/tmp/tmpwpb0anub\".\n"
          ]
        }
      ]
    },
    {
      "cell_type": "markdown",
      "source": [
        "# **Install, set up, and test Cublas**"
      ],
      "metadata": {
        "id": "Bg_tkf3VpoAj"
      }
    },
    {
      "cell_type": "code",
      "source": [
        "!ls /usr/local/cuda/lib64/libcublas*"
      ],
      "metadata": {
        "colab": {
          "base_uri": "https://localhost:8080/"
        },
        "id": "YannQmM33l4b",
        "outputId": "59298fc6-d66f-4321-f995-42a8bde52c0c"
      },
      "execution_count": null,
      "outputs": [
        {
          "output_type": "stream",
          "name": "stdout",
          "text": [
            "/usr/local/cuda/lib64/libcublasLt.so\t       /usr/local/cuda/lib64/libcublas.so\n",
            "/usr/local/cuda/lib64/libcublasLt.so.12        /usr/local/cuda/lib64/libcublas.so.12\n",
            "/usr/local/cuda/lib64/libcublasLt.so.12.4.5.8  /usr/local/cuda/lib64/libcublas.so.12.4.5.8\n",
            "/usr/local/cuda/lib64/libcublasLt_static.a     /usr/local/cuda/lib64/libcublas_static.a\n"
          ]
        }
      ]
    },
    {
      "cell_type": "code",
      "source": [
        "import os\n",
        "import subprocess\n",
        "\n",
        "%env LD_LIBRARY_PATH=/usr/local/cuda/lib64:$LD_LIBRARY_PATH\n",
        "\n",
        "CUBLAS_COMPILER_ARGS = \"-L/usr/local/cuda/lib64 -lcublas\"\n",
        "print(f\"cuBLAS Compiler Args: {CUBLAS_COMPILER_ARGS}\")\n",
        "\n",
        "os.environ['PATH'] += ':/usr/local/cuda/bin'\n",
        "os.environ['LD_LIBRARY_PATH'] += ':/usr/local/cuda/lib64'"
      ],
      "metadata": {
        "colab": {
          "base_uri": "https://localhost:8080/"
        },
        "id": "VeOP30-03n8q",
        "outputId": "77fb5447-dd50-4a9d-87a6-182f26e348d8"
      },
      "execution_count": 6,
      "outputs": [
        {
          "output_type": "stream",
          "name": "stdout",
          "text": [
            "env: LD_LIBRARY_PATH=/usr/local/cuda/lib64:$LD_LIBRARY_PATH\n",
            "cuBLAS Compiler Args: -L/usr/local/cuda/lib64 -lcublas\n"
          ]
        }
      ]
    },
    {
      "cell_type": "markdown",
      "source": [
        "For reference:"
      ],
      "metadata": {
        "id": "AMUA-jeY25OX"
      }
    },
    {
      "cell_type": "code",
      "source": [
        "%%cuda --compiler-args \"$CUBLAS_COMPILER_ARGS\"\n",
        "#include <stdio.h>\n",
        "#include <stdlib.h>\n",
        "#include <iostream>\n",
        "#include <cuda_runtime.h>\n",
        "#include \"math.h\"\n",
        "#include \"cublas_v2.h\"\n",
        "\n",
        "int main()\n",
        "{\n",
        "    const int streamsNum = 2;\n",
        "    int N = 1 << 10; // Default 1024 x 1024 matrix\n",
        "\n",
        "    // pinned host memory\n",
        "    float *h_a, *h_b, *h_c, *h_x, *h_y, *h_z;\n",
        "    cudaMallocHost((void**)&h_a, sizeof(float) * N * N);\n",
        "    cudaMallocHost((void**)&h_b, sizeof(float) * N * N);\n",
        "    cudaMallocHost((void**)&h_c, sizeof(float) * N * N);\n",
        "    cudaMallocHost((void**)&h_x, sizeof(float) * N * N);\n",
        "    cudaMallocHost((void**)&h_y, sizeof(float) * N * N);\n",
        "    cudaMallocHost((void**)&h_z, sizeof(float) * N * N);\n",
        "\n",
        "    // only set diagonal elements\n",
        "    for (int i = 0; i < N; i++) {\n",
        "        int idx = i * N + i; // Diagonal index\n",
        "        h_a[idx] = sin(idx);\n",
        "        h_b[idx] = sin(idx);\n",
        "        h_c[idx] = cos(idx) * cos(idx);\n",
        "        h_x[idx] = sin(idx);\n",
        "        h_y[idx] = sin(idx);\n",
        "        h_z[idx] = cos(idx) * cos(idx);\n",
        "    }\n",
        "\n",
        "    // allocate device memory\n",
        "    float *d_a, *d_b, *d_c, *d_x, *d_y, *d_z;\n",
        "    cudaMalloc((void**)&d_a, sizeof(float) * N * N);\n",
        "    cudaMalloc((void**)&d_b, sizeof(float) * N * N);\n",
        "    cudaMalloc((void**)&d_c, sizeof(float) * N * N);\n",
        "    cudaMalloc((void**)&d_x, sizeof(float) * N * N);\n",
        "    cudaMalloc((void**)&d_y, sizeof(float) * N * N);\n",
        "    cudaMalloc((void**)&d_z, sizeof(float) * N * N);\n",
        "\n",
        "    // create streams\n",
        "    cudaStream_t streams[streamsNum];\n",
        "    for (int i = 0; i < streamsNum; i++) {\n",
        "        cudaStreamCreate(&streams[i]);\n",
        "    }\n",
        "\n",
        "    // create cuBLAS handles\n",
        "    cublasHandle_t handle[streamsNum];\n",
        "    for (int i = 0; i < streamsNum; i++) {\n",
        "        cublasCreate(&handle[i]);\n",
        "        cublasSetStream(handle[i], streams[i]); // Associate handle with stream\n",
        "    }\n",
        "\n",
        "    float alpha = 1.0f, beta = 1.0f;\n",
        "\n",
        "    // async memory copies to device\n",
        "    // cublasSetMatrixAsync(int rows, int cols, int elemSize, const void *A,\n",
        "    //                      int lda, void *B, int ldb, cudaStream_t stream)\n",
        "\n",
        "    cublasSetMatrixAsync(N, N, sizeof(float), h_a, N, d_a, N, streams[0]);\n",
        "    cublasSetMatrixAsync(N, N, sizeof(float), h_b, N, d_b, N, streams[0]);\n",
        "    cublasSetMatrixAsync(N, N, sizeof(float), h_c, N, d_c, N, streams[0]);\n",
        "    cublasSetMatrixAsync(N, N, sizeof(float), h_x, N, d_x, N, streams[1]);\n",
        "    cublasSetMatrixAsync(N, N, sizeof(float), h_y, N, d_y, N, streams[1]);\n",
        "    cublasSetMatrixAsync(N, N, sizeof(float), h_z, N, d_z, N, streams[1]);\n",
        "\n",
        "    // SGEMM: C = alpha * A * B + beta * C\n",
        "    // cublasSgemm(cublasHandle_t handle,\n",
        "    //                     cublasOperation_t transa, cublasOperation_t transb,\n",
        "    //                     int m, int n, int k,\n",
        "    //                     const float           *alpha,\n",
        "    //                     const float           *A, int lda,\n",
        "    //                     const float           *B, int ldb,\n",
        "    //                     const float           *beta,\n",
        "    //                     float           *C, int ldc)\n",
        "\n",
        "    cublasSgemm(handle[0], CUBLAS_OP_N, CUBLAS_OP_N,\n",
        "                N, N, N, &alpha, d_a, N, d_b, N, &beta, d_c, N);\n",
        "    cublasSgemm(handle[1], CUBLAS_OP_N, CUBLAS_OP_N,\n",
        "                N, N, N, &alpha, d_x, N, d_y, N, &beta, d_z, N);\n",
        "\n",
        "    // Back to host\n",
        "    cublasGetMatrixAsync(N, N, sizeof(float), d_c, N, h_c, N, streams[0]);\n",
        "    cublasGetMatrixAsync(N, N, sizeof(float), d_z, N, h_z, N, streams[1]);\n",
        "\n",
        "    // Wait for streams to complete\n",
        "    for (int i = 0; i < streamsNum; i++) {\n",
        "        cudaStreamSynchronize(streams[i]);\n",
        "    }\n",
        "\n",
        "    // Cleanup\n",
        "    for (int i = 0; i < streamsNum; i++) {\n",
        "        cublasDestroy(handle[i]);\n",
        "        cudaStreamDestroy(streams[i]);\n",
        "    }\n",
        "\n",
        "    cudaFree(d_a); cudaFree(d_b); cudaFree(d_c);\n",
        "    cudaFree(d_x); cudaFree(d_y); cudaFree(d_z);\n",
        "    cudaFreeHost(h_a); cudaFreeHost(h_b); cudaFreeHost(h_c);\n",
        "    cudaFreeHost(h_x); cudaFreeHost(h_y); cudaFreeHost(h_z);\n",
        "\n",
        "    return 0;\n",
        "}"
      ],
      "metadata": {
        "id": "rEWHv3EklRlA"
      },
      "execution_count": null,
      "outputs": []
    },
    {
      "cell_type": "code",
      "source": [
        "%%cuda --compiler-args \"$CUBLAS_COMPILER_ARGS\"\n",
        "#include <stdio.h>\n",
        "#include <stdlib.h>\n",
        "#include <iostream>\n",
        "#include <cuda_runtime.h>\n",
        "#include \"math.h\"\n",
        "#include \"cublas_v2.h\"\n",
        "\n",
        "int main()\n",
        "{\n",
        "    const int streamsNum = 2;\n",
        "    int N = 1 << 10; // Default 1024 x 1024 matrix\n",
        "\n",
        "    // pinned host memory\n",
        "    float *h_a, *h_b, *h_c, *h_x, *h_y, *h_z;\n",
        "    cudaMallocHost((void**)&h_a, sizeof(float) * N * N);\n",
        "    cudaMallocHost((void**)&h_b, sizeof(float) * N * N);\n",
        "    cudaMallocHost((void**)&h_c, sizeof(float) * N * N);\n",
        "    cudaMallocHost((void**)&h_x, sizeof(float) * N * N);\n",
        "    cudaMallocHost((void**)&h_y, sizeof(float) * N * N);\n",
        "    cudaMallocHost((void**)&h_z, sizeof(float) * N * N);\n",
        "\n",
        "    // only set diagonal elements\n",
        "    for (int i = 0; i < N; i++) {\n",
        "        int idx = i * N + i; // Diagonal index\n",
        "        h_a[idx] = sin(idx);\n",
        "        h_b[idx] = sin(idx);\n",
        "        h_c[idx] = cos(idx) * cos(idx);\n",
        "        h_x[idx] = sin(idx);\n",
        "        h_y[idx] = sin(idx);\n",
        "        h_z[idx] = cos(idx) * cos(idx);\n",
        "    }\n",
        "\n",
        "    // allocate device memory\n",
        "    float *d_a, *d_b, *d_c, *d_x, *d_y, *d_z;\n",
        "    cudaMalloc((void**)&d_a, sizeof(float) * N * N);\n",
        "    cudaMalloc((void**)&d_b, sizeof(float) * N * N);\n",
        "    cudaMalloc((void**)&d_c, sizeof(float) * N * N);\n",
        "    cudaMalloc((void**)&d_x, sizeof(float) * N * N);\n",
        "    cudaMalloc((void**)&d_y, sizeof(float) * N * N);\n",
        "    cudaMalloc((void**)&d_z, sizeof(float) * N * N);\n",
        "\n",
        "    // create streams\n",
        "    cudaStream_t streams[streamsNum];\n",
        "    for (int i = 0; i < streamsNum; i++) {\n",
        "        cudaStreamCreate(&streams[i]);\n",
        "    }\n",
        "\n",
        "    // create cuBLAS handles\n",
        "    cublasHandle_t handle[streamsNum];\n",
        "    for (int i = 0; i < streamsNum; i++) {\n",
        "        cublasCreate(&handle[i]);\n",
        "        cublasSetStream(handle[i], streams[i]); // Associate handle with stream\n",
        "    }\n",
        "\n",
        "    float alpha = 1.0f, beta = 1.0f;\n",
        "\n",
        "    // async memory copies to device\n",
        "    // cublasSetMatrixAsync(int rows, int cols, int elemSize, const void *A,\n",
        "    //                      int lda, void *B, int ldb, cudaStream_t stream)\n",
        "\n",
        "    cublasSetMatrixAsync(N, N, sizeof(float), h_a, N, d_a, N, streams[0]);\n",
        "    cublasSetMatrixAsync(N, N, sizeof(float), h_b, N, d_b, N, streams[0]);\n",
        "    cublasSetMatrixAsync(N, N, sizeof(float), h_c, N, d_c, N, streams[0]);\n",
        "    cublasSetMatrixAsync(N, N, sizeof(float), h_x, N, d_x, N, streams[1]);\n",
        "    cublasSetMatrixAsync(N, N, sizeof(float), h_y, N, d_y, N, streams[1]);\n",
        "    cublasSetMatrixAsync(N, N, sizeof(float), h_z, N, d_z, N, streams[1]);\n",
        "\n",
        "    // SGEMM: C = alpha * A * B + beta * C\n",
        "    // cublasSgemm(cublasHandle_t handle,\n",
        "    //                     cublasOperation_t transa, cublasOperation_t transb,\n",
        "    //                     int m, int n, int k,\n",
        "    //                     const float           *alpha,\n",
        "    //                     const float           *A, int lda,\n",
        "    //                     const float           *B, int ldb,\n",
        "    //                     const float           *beta,\n",
        "    //                     float           *C, int ldc)\n",
        "\n",
        "    cublasSgemm(handle[0], CUBLAS_OP_N, CUBLAS_OP_N,\n",
        "                N, N, N, &alpha, d_a, N, d_b, N, &beta, d_c, N);\n",
        "    cublasSgemm(handle[1], CUBLAS_OP_N, CUBLAS_OP_N,\n",
        "                N, N, N, &alpha, d_x, N, d_y, N, &beta, d_z, N);\n",
        "\n",
        "    // Back to host\n",
        "    cublasGetMatrixAsync(N, N, sizeof(float), d_c, N, h_c, N, streams[0]);\n",
        "    cublasGetMatrixAsync(N, N, sizeof(float), d_z, N, h_z, N, streams[1]);\n",
        "\n",
        "    // Wait for streams to complete\n",
        "    for (int i = 0; i < streamsNum; i++) {\n",
        "        cudaStreamSynchronize(streams[i]);\n",
        "    }\n",
        "\n",
        "    // Cleanup\n",
        "    for (int i = 0; i < streamsNum; i++) {\n",
        "        cublasDestroy(handle[i]);\n",
        "        cudaStreamDestroy(streams[i]);\n",
        "    }\n",
        "\n",
        "    cudaFree(d_a); cudaFree(d_b); cudaFree(d_c);\n",
        "    cudaFree(d_x); cudaFree(d_y); cudaFree(d_z);\n",
        "    cudaFreeHost(h_a); cudaFreeHost(h_b); cudaFreeHost(h_c);\n",
        "    cudaFreeHost(h_x); cudaFreeHost(h_y); cudaFreeHost(h_z);\n",
        "\n",
        "    return 0;\n",
        "}"
      ],
      "metadata": {
        "id": "r0T2sQC-yDkI",
        "colab": {
          "base_uri": "https://localhost:8080/"
        },
        "outputId": "8ff41338-1691-4261-fd3d-8c069e3dcadc"
      },
      "execution_count": 20,
      "outputs": [
        {
          "output_type": "stream",
          "name": "stdout",
          "text": [
            "\n"
          ]
        }
      ]
    }
  ]
}